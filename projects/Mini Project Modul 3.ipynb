{
 "cells": [
  {
   "cell_type": "markdown",
   "id": "a2636347",
   "metadata": {},
   "source": [
    "# Mini Project Modul 3: Menganalisis Hasil A/B Test untuk Desain Website Baru"
   ]
  },
  {
   "cell_type": "markdown",
   "id": "727f2793",
   "metadata": {},
   "source": [
    "**Skenario Bisnis**\n",
    "\n",
    "Perusahaan Anda telah meluncurkan A/B test untuk desain homepage baru. Tujuannya adalah untuk melihat apakah desain baru (treatment) membuat pengguna menghabiskan lebih banyak waktu di situs dibandingkan dengan desain lama (control).\n",
    "- Grup A (Control): Melihat desain homepage lama.\n",
    "- Grup B (Treatment): Melihat desain homepage baru.\n",
    "\n",
    "Pertanyaan: Apakah desain baru secara signifikan meningkatkan rata-rata durasi sesi pengguna?"
   ]
  },
  {
   "cell_type": "markdown",
   "id": "e40020b3",
   "metadata": {},
   "source": [
    "## Langkah 1: Menyiapkan Data & Hipotesis"
   ]
  },
  {
   "cell_type": "markdown",
   "id": "cd73e46c",
   "metadata": {},
   "source": [
    "### a. Buat Dataset (Menggunakan Python)"
   ]
  },
  {
   "cell_type": "code",
   "execution_count": 1,
   "id": "36272578",
   "metadata": {},
   "outputs": [
    {
     "name": "stdout",
     "output_type": "stream",
     "text": [
      "File 'ab_test_data.csv' berhasil dibuat!\n"
     ]
    }
   ],
   "source": [
    "import pandas as pd\n",
    "import numpy as np\n",
    "\n",
    "# Membuat data tiruan\n",
    "np.random.seed(42) # Agar hasilnya selalu sama\n",
    "data = {\n",
    "    'user_id': range(1, 2001),\n",
    "    'group': ['control'] * 1000 + ['treatment'] * 1000,\n",
    "    'session_duration_minutes': np.concatenate([\n",
    "        np.random.normal(loc=10, scale=3, size=1000), # Data untuk grup control\n",
    "        np.random.normal(loc=10.8, scale=3.2, size=1000) # Data untuk grup treatment\n",
    "    ])\n",
    "}\n",
    "df = pd.DataFrame(data)\n",
    "\n",
    "# Menyimpan ke file CSV\n",
    "df.to_csv('ab_test_data.csv', index=False)\n",
    "\n",
    "print(\"File 'ab_test_data.csv' berhasil dibuat!\")"
   ]
  },
  {
   "cell_type": "markdown",
   "id": "a9817aca",
   "metadata": {},
   "source": [
    "### b. Definisikan Hipotesis\n",
    "- Hipotesis Nol (H₀): Tidak ada perbedaan. Rata-rata durasi sesi grup treatment sama dengan grup control.\n",
    "- Hipotesis Alternatif (H₁): Ada perbedaan. Rata-rata durasi sesi grup treatment lebih tinggi daripada grup control.\n",
    "- Tingkat Signifikansi (α): Kita akan menggunakan standar 0.05."
   ]
  },
  {
   "cell_type": "markdown",
   "id": "93ad3e67",
   "metadata": {},
   "source": [
    "## Langkah 2: Analisis Data"
   ]
  },
  {
   "cell_type": "markdown",
   "id": "8b46542c",
   "metadata": {},
   "source": [
    "### Muat dan Lihat Data"
   ]
  },
  {
   "cell_type": "code",
   "execution_count": 2,
   "id": "479aed76",
   "metadata": {},
   "outputs": [],
   "source": [
    "import pandas as pd\n",
    "\n",
    "# Muat dataset\n",
    "df = pd.read_csv('ab_test_data.csv')\n",
    "\n",
    "# Pisahkan data menjadi dua grup\n",
    "control_group = df[df['group'] == 'control']['session_duration_minutes']\n",
    "treatment_group = df[df['group'] == 'treatment']['session_duration_minutes']"
   ]
  },
  {
   "cell_type": "markdown",
   "id": "87b3043f",
   "metadata": {},
   "source": [
    "### b. Hitung Statistik Deskriptif"
   ]
  },
  {
   "cell_type": "code",
   "execution_count": 3,
   "id": "511c02ed",
   "metadata": {},
   "outputs": [
    {
     "name": "stdout",
     "output_type": "stream",
     "text": [
      "Rata-rata Control: 10.06\n",
      "Rata-rata Treatment: 11.03\n",
      "Std Deviasi Control: 2.94\n",
      "Std Deviasi Treatment: 3.19\n"
     ]
    }
   ],
   "source": [
    "# Menghitung rata-rata dan standar deviasi\n",
    "print(f\"Rata-rata Control: {control_group.mean():.2f}\")\n",
    "print(f\"Rata-rata Treatment: {treatment_group.mean():.2f}\")\n",
    "print(f\"Std Deviasi Control: {control_group.std():.2f}\")\n",
    "print(f\"Std Deviasi Treatment: {treatment_group.std():.2f}\")"
   ]
  },
  {
   "cell_type": "markdown",
   "id": "76582e07",
   "metadata": {},
   "source": [
    "## Langkah 3: Lakukan Uji Statistik (T-test)"
   ]
  },
  {
   "cell_type": "code",
   "execution_count": 4,
   "id": "4be8a359",
   "metadata": {},
   "outputs": [
    {
     "name": "stdout",
     "output_type": "stream",
     "text": [
      "T-statistic: 7.0615\n",
      "P-value: 0.0000\n",
      "\n",
      "Hasil signifikan! Kita menolak Hipotesis Nol.\n"
     ]
    }
   ],
   "source": [
    "from scipy import stats\n",
    "\n",
    "# Melakukan independent t-test\n",
    "t_stat, p_value = stats.ttest_ind(treatment_group, control_group, alternative='greater')\n",
    "\n",
    "print(f\"T-statistic: {t_stat:.4f}\")\n",
    "print(f\"P-value: {p_value:.4f}\")\n",
    "\n",
    "# Membuat keputusan\n",
    "alpha = 0.05\n",
    "if p_value < alpha:\n",
    "    print(\"\\nHasil signifikan! Kita menolak Hipotesis Nol.\")\n",
    "else:\n",
    "    print(\"\\nHasil tidak signifikan. Kita gagal menolak Hipotesis Nol.\")"
   ]
  },
  {
   "cell_type": "markdown",
   "id": "fcba79b9",
   "metadata": {},
   "source": [
    "## Langkah 4: Interpretasi dan Kesimpulan"
   ]
  },
  {
   "cell_type": "markdown",
   "id": "01714a1d",
   "metadata": {},
   "source": [
    "### a. Interpretasi Hasil Statistik\n",
    "Hasil yang didapat adalah:\n",
    "- T-statistic: 7.0615\n",
    "- P-value: 0.0000\n",
    "P-value yang didapat adalah (0.000) sangat kecil, jauh di bawah tingkat signifikansi (alpha = 0.05)"
   ]
  },
  {
   "cell_type": "markdown",
   "id": "93723c62",
   "metadata": {},
   "source": [
    "### b. Kesimpulan\n",
    "Berdasarkan analisis statistik, didapat bukti yang sangat kuat untuk **menolak Hipotesis Nol.**\n",
    "\n",
    "*Rekomendasi untuk Manajemen:*\n",
    "\n",
    "> Hasil dari A/B test menunjukkan bahwa desain homepage yang baru secara signifikan meningkatkan rata-rata durasi sesi pengguna dibandingkan dengan desain lama (p < 0.05). Rata-rata durasi sesi untuk desain baru adalah sekitar 11.03 menit, lebih tinggi dari desain lama yang rata-ratanya 10.06 menit. Direkomendasikan untuk meluncurkan desain homepage baru ini kepada semua pengguna untuk meningkatkan engagement."
   ]
  },
  {
   "cell_type": "code",
   "execution_count": null,
   "id": "3dd8da93",
   "metadata": {},
   "outputs": [],
   "source": []
  }
 ],
 "metadata": {
  "kernelspec": {
   "display_name": "base",
   "language": "python",
   "name": "python3"
  },
  "language_info": {
   "codemirror_mode": {
    "name": "ipython",
    "version": 3
   },
   "file_extension": ".py",
   "mimetype": "text/x-python",
   "name": "python",
   "nbconvert_exporter": "python",
   "pygments_lexer": "ipython3",
   "version": "3.13.5"
  }
 },
 "nbformat": 4,
 "nbformat_minor": 5
}
